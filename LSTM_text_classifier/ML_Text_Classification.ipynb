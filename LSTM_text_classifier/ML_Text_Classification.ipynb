{
 "cells": [
  {
   "cell_type": "markdown",
   "metadata": {},
   "source": [
    "## In this project we investigate the several variants of RNN with a novel architecture where we jointly train an autoencoder and a classifier attached on its latent space. "
   ]
  },
  {
   "cell_type": "code",
   "execution_count": 1,
   "metadata": {},
   "outputs": [
    {
     "name": "stderr",
     "output_type": "stream",
     "text": [
      "Using TensorFlow backend.\n"
     ]
    }
   ],
   "source": [
    "import nltk\n",
    "import sklearn\n",
    "import numpy as np\n",
    "import pandas as pd\n",
    "from xgboost import XGBClassifier\n",
    "from sklearn.model_selection import train_test_split, GridSearchCV, KFold\n",
    "import pydot\n",
    "from lxml import html, etree\n",
    "from keras.layers import Lambda\n",
    "from keras import backend as K\n",
    "import xgboost as xgb\n",
    "from sklearn.naive_bayes import GaussianNB, MultinomialNB, ComplementNB\n",
    "from sklearn.metrics import accuracy_score, recall_score, precision_score, confusion_matrix, cohen_kappa_score\n",
    "#nltk.download()\n",
    "# Download Corpora -> stopwords, Models -> punkt\n",
    "from keras import losses\n",
    "from keras.preprocessing.text import Tokenizer\n",
    "from keras.preprocessing.sequence import pad_sequences\n",
    "from nltk.corpus import stopwords\n",
    "from nltk.tokenize import word_tokenize\n",
    "import scipy\n",
    "import matplotlib.pyplot as plt\n",
    "import seaborn as sns\n",
    "from lxml import html, etree\n",
    "import matplotlib.pyplot as plt\n",
    "from sklearn.metrics import average_precision_score, f1_score\n",
    "from sklearn.tree import DecisionTreeClassifier\n",
    "\n",
    "import scipy\n",
    "import matplotlib.pyplot as plt\n",
    "import seaborn as sns\n",
    "from lxml import html, etree\n",
    "import matplotlib.pyplot as plt\n",
    "from sklearn.metrics import average_precision_score, f1_score\n",
    "from sklearn.feature_extraction.text import CountVectorizer\n",
    "from sklearn.feature_extraction.text import TfidfVectorizer\n",
    "from keras.preprocessing.text import Tokenizer\n",
    "from keras.models import Sequential, Model\n",
    "from keras.optimizers import Adam\n",
    "from keras.layers import GRU, RNN, LSTM, Dense, Activation, Embedding, Dropout, Input, RepeatVector, TimeDistributed, Bidirectional\n",
    "from sklearn.model_selection import train_test_split\n",
    "from keras.preprocessing.sequence import pad_sequences\n",
    "from keras.utils import to_categorical\n",
    "from keras.callbacks import EarlyStopping, ModelCheckpoint\n",
    "\n",
    "\n",
    "\n"
   ]
  },
  {
   "cell_type": "code",
   "execution_count": 7,
   "metadata": {},
   "outputs": [],
   "source": [
    "#Parsing the reu data:\n",
    "def parse_reu(reu):\n",
    "    \"\"\"Parses the etree object and returns a list of dictionary of reuters attr\n",
    "    Output: {'topics': the topic of the article, 'places': where it is located, \n",
    "        'split': training/test split, 'body':the text of the article as a set of words with stopwords removed}\n",
    "    \"\"\"\n",
    "    root= reu.getroot()\n",
    "    articles = root.body.getchildren()\n",
    "    stop_words = set(stopwords.words('english'))\n",
    "    reu_pl = []\n",
    "    for a in articles:\n",
    "        reu_parse = {}\n",
    "        if a.attrib['topics'] != 'YES':\n",
    "            next\n",
    "        topics = a.find('topics').findall('d')\n",
    "        if topics:\n",
    "            reu_parse['topics'] = [t.text for t in topics]\n",
    "        else:\n",
    "            reu_parse['topics'] = []\n",
    "        places = a.find('places').findall('d')\n",
    "        if places:\n",
    "            reu_parse['places'] = [t.text for t in places]\n",
    "        reu_parse['split'] = a.attrib['lewissplit']\n",
    "        rtxt = a.find('text')\n",
    "        word_tokens = word_tokenize(rtxt.text_content())\n",
    "        filtered_sentence = set([w.lower() for w in word_tokens if not w in stop_words])\n",
    "        reu_parse['body'] = filtered_sentence\n",
    "        reu_pl.append(reu_parse)\n",
    "    return reu_pl\n",
    "##################"
   ]
  },
  {
   "cell_type": "code",
   "execution_count": 8,
   "metadata": {},
   "outputs": [],
   "source": [
    "#Define the maximum word size as 2000.\n",
    "whole_reu = []\n",
    "filename = []\n",
    "for index in range(10):\n",
    "    filename = 'reuters/reut2-00'+np.str(index)+'.sgm'\n",
    "    current_reu = html.parse(filename)\n",
    "    reu_current = parse_reu(current_reu)\n",
    "    whole_reu += reu_current\n",
    "for index in range(10,22):\n",
    "    filename = 'reuters/reut2-0'+np.str(index)+'.sgm'\n",
    "    current_reu = html.parse(filename)\n",
    "    reu_current = parse_reu(current_reu)\n",
    "    whole_reu += reu_current  "
   ]
  },
  {
   "cell_type": "code",
   "execution_count": 9,
   "metadata": {},
   "outputs": [],
   "source": [
    "#Construct the vectorizer to transform the text data note that here we didn't use maximal features\n",
    "MAX_VOC = 2000\n",
    "max_length = 300\n",
    "vectorizer = Tokenizer(num_words = MAX_VOC)\n",
    "whole_article = [\" \".join(tt.lower() for tt in ss['body']) for ss in whole_reu]\n",
    "vectorizer.fit_on_texts(whole_article)\n",
    "sequences = vectorizer.texts_to_sequences(whole_article)\n",
    "word_index = vectorizer.word_index\n",
    "X_matrix = pad_sequences(sequences, maxlen = max_length)\n"
   ]
  },
  {
   "cell_type": "code",
   "execution_count": 10,
   "metadata": {},
   "outputs": [
    {
     "data": {
      "text/plain": [
       "(21578, 300)"
      ]
     },
     "execution_count": 10,
     "metadata": {},
     "output_type": "execute_result"
    }
   ],
   "source": [
    "#Transform to the embedding matrix:\n",
    "X_matrix.shape"
   ]
  },
  {
   "cell_type": "code",
   "execution_count": 11,
   "metadata": {},
   "outputs": [],
   "source": [
    "#Creating the multinomial response:\n",
    "Y_earn = np.asarray([np.int(ss['topics'] == ['earn']) for ss in whole_reu])\n",
    "Y_acq = np.asarray([np.int(ss['topics'] == ['acq']) for ss in whole_reu])"
   ]
  },
  {
   "cell_type": "code",
   "execution_count": 12,
   "metadata": {},
   "outputs": [
    {
     "name": "stdout",
     "output_type": "stream",
     "text": [
      "Found 1917494 word vectors.\n"
     ]
    }
   ],
   "source": [
    "#Extract the embedding matrix:\n",
    "\"\"\"\n",
    ":Reference: https://www.kaggle.com/jannesklaas/19-lstm-for-email-classification\n",
    "\"\"\"\n",
    "import os\n",
    "embedding_dim = 300\n",
    "\n",
    "embeddings_index = {} # We create a dictionary of word -> embedding\n",
    "f = open('glove.42B.300d.txt') # Open file\n",
    "\n",
    "# In the dataset, each line represents a new word embedding\n",
    "# The line starts with the word and the embedding values follow\n",
    "for line in f:\n",
    "    values = line.split()\n",
    "    word = values[0] # The first value is the word, the rest are the values of the embedding\n",
    "    embedding = np.asarray(values[1:], dtype='float32') # Load embedding\n",
    "    embeddings_index[word] = embedding # Add embedding to our embedding dictionary\n",
    "f.close()\n",
    "\n",
    "print('Found %s word vectors.' % len(embeddings_index))\n",
    "word_index = vectorizer.word_index\n",
    "nb_words = min(MAX_VOC, len(word_index)) # How many words are there actually\n",
    "\n",
    "# Create a random matrix with the same mean and std as the embeddings\n",
    "embedding_matrix = np.random.normal(0, 1, (nb_words, embedding_dim))\n",
    "\n",
    "# The vectors need to be in the same position as their index. \n",
    "# Meaning a word with token 1 needs to be in the second row (rows start with zero) and so on\n",
    "\n",
    "# Loop over all words in the word index\n",
    "for word, i in word_index.items():\n",
    "    # If we are above the amount of words we want to use we do nothing\n",
    "    if i >= MAX_VOC: \n",
    "        continue\n",
    "    # Get the embedding vector for the word\n",
    "    embedding_vector = embeddings_index.get(word)\n",
    "    # If there is an embedding vector, put it in the embedding matrix\n",
    "    if embedding_vector is not None: \n",
    "        embedding_matrix[i] = embedding_vector"
   ]
  },
  {
   "cell_type": "code",
   "execution_count": 13,
   "metadata": {},
   "outputs": [],
   "source": [
    "# Create a random matrix with the same mean and std as the embeddings\n",
    "embedding_matrix = np.random.normal(0, 1, (nb_words, embedding_dim))\n",
    "\n",
    "# The vectors need to be in the same position as their index. \n",
    "# Meaning a word with token 1 needs to be in the second row (rows start with zero) and so on\n",
    "\n",
    "# Loop over all words in the word index\n",
    "for word, i in word_index.items():\n",
    "    # If we are above the amount of words we want to use we do nothing\n",
    "    if i >= MAX_VOC: \n",
    "        continue\n",
    "    # Get the embedding vector for the word\n",
    "    embedding_vector = embeddings_index.get(word)\n",
    "    # If there is an embedding vector, put it in the embedding matrix\n",
    "    if embedding_vector is not None: \n",
    "        embedding_matrix[i] = embedding_vector"
   ]
  },
  {
   "cell_type": "markdown",
   "metadata": {},
   "source": [
    "#EDA has been done in homework so I would skip it."
   ]
  },
  {
   "cell_type": "code",
   "execution_count": 14,
   "metadata": {},
   "outputs": [],
   "source": [
    "#Apply the simple LSTM to classify:\n",
    "from keras.models import Sequential\n",
    "from keras.optimizers import Adam\n",
    "from keras.layers import LSTM, Dense, Activation, Embedding, Dropout\n",
    "from sklearn.model_selection import train_test_split, KFold\n",
    "\n",
    "kf = KFold(n_splits=5, random_state = 42)\n",
    "X_train_e, X_test_e, Y_train_e, Y_test_e = train_test_split(X_matrix, Y_earn, test_size = 0.2, random_state = 42)\n",
    "X_train_a, X_test_a, Y_train_a, Y_test_a = train_test_split(X_matrix, Y_acq, test_size = 0.2, random_state = 1)\n",
    "n = X_matrix.shape[0]\n",
    "n_t = X_train_e.shape[0]\n",
    "n_v = X_test_e.shape[0]\n",
    "\n",
    "def LSTM_simple():\n",
    "    model_ls1 = Sequential()\n",
    "    model_ls1.add(Embedding(MAX_VOC, embedding_dim, input_length = max_length,\n",
    "                           weights = [embedding_matrix],\n",
    "                           trainable = False))\n",
    "    model_ls1.add(LSTM(64))\n",
    "    model_ls1.add(Dense(1, activation = 'sigmoid'))\n",
    "    model_ls1.add(Dropout(0.2))\n",
    "    OPTIM = Adam(lr=0.004)\n",
    "    model_ls1.compile(loss = 'binary_crossentropy',\n",
    "                 optimizer = OPTIM, metrics = ['accuracy'])\n",
    "    model_ls1.summary()\n",
    "    return model_ls1\n",
    "    "
   ]
  },
  {
   "cell_type": "code",
   "execution_count": 25,
   "metadata": {},
   "outputs": [],
   "source": [
    "#Try the ordinary RNN without LSTM version:\n",
    "def GRU_simple():\n",
    "    model_1 = Sequential()\n",
    "    model_1.add(Embedding(MAX_VOC, embedding_dim, input_length = max_length,\n",
    "                         weights = [embedding_matrix],\n",
    "                         trainable = False))\n",
    "    model_1.add(GRU(64))\n",
    "    model_1.add(Dense(1, activation = 'sigmoid'))\n",
    "    model_1.add(Dropout(0.2))\n",
    "    OPTIM = Adam(lr = 0.001)\n",
    "    model_1.compile(loss = 'binary_crossentropy',\n",
    "                   optimizer = OPTIM, metrics = ['accuracy'])\n",
    "    return model_1"
   ]
  },
  {
   "cell_type": "code",
   "execution_count": 26,
   "metadata": {
    "scrolled": true
   },
   "outputs": [
    {
     "name": "stdout",
     "output_type": "stream",
     "text": [
      "Train on 13809 samples, validate on 3453 samples\n",
      "Epoch 1/80\n",
      "13809/13809 [==============================] - 32s 2ms/step - loss: 0.7931 - acc: 0.8815 - val_loss: 0.1942 - val_acc: 0.9343\n",
      "Epoch 2/80\n",
      "13809/13809 [==============================] - 31s 2ms/step - loss: 0.7045 - acc: 0.9174 - val_loss: 0.1506 - val_acc: 0.9302\n",
      "Epoch 3/80\n",
      "13809/13809 [==============================] - 31s 2ms/step - loss: 0.7390 - acc: 0.9221 - val_loss: 0.1518 - val_acc: 0.9424\n",
      "Epoch 4/80\n",
      "13809/13809 [==============================] - 31s 2ms/step - loss: 0.6547 - acc: 0.9308 - val_loss: 0.1124 - val_acc: 0.9571\n",
      "Epoch 5/80\n",
      "13809/13809 [==============================] - 31s 2ms/step - loss: 0.7022 - acc: 0.9311 - val_loss: 0.1113 - val_acc: 0.9606\n",
      "Epoch 6/80\n",
      "13809/13809 [==============================] - 31s 2ms/step - loss: 0.6849 - acc: 0.9156 - val_loss: 0.1182 - val_acc: 0.9542\n",
      "Epoch 7/80\n",
      "13809/13809 [==============================] - 30s 2ms/step - loss: 0.7044 - acc: 0.9333 - val_loss: 0.0998 - val_acc: 0.9687\n",
      "Epoch 8/80\n",
      "13809/13809 [==============================] - 29s 2ms/step - loss: 0.6180 - acc: 0.9419 - val_loss: 0.0949 - val_acc: 0.9664\n",
      "Epoch 9/80\n",
      "13809/13809 [==============================] - 30s 2ms/step - loss: 0.6820 - acc: 0.9400 - val_loss: 0.0995 - val_acc: 0.9626\n",
      "Epoch 10/80\n",
      "13809/13809 [==============================] - 30s 2ms/step - loss: 0.6787 - acc: 0.9416 - val_loss: 0.0924 - val_acc: 0.9708\n",
      "Epoch 11/80\n",
      "13809/13809 [==============================] - 30s 2ms/step - loss: 0.6546 - acc: 0.9453 - val_loss: 0.0876 - val_acc: 0.9710\n",
      "Epoch 12/80\n",
      "13809/13809 [==============================] - 30s 2ms/step - loss: 0.6600 - acc: 0.9453 - val_loss: 0.0856 - val_acc: 0.9716\n",
      "Epoch 13/80\n",
      "13809/13809 [==============================] - 30s 2ms/step - loss: 0.6240 - acc: 0.9495 - val_loss: 0.0960 - val_acc: 0.9699\n",
      "Epoch 14/80\n",
      "13809/13809 [==============================] - 30s 2ms/step - loss: 0.6818 - acc: 0.9467 - val_loss: 0.0908 - val_acc: 0.9708\n",
      "Epoch 15/80\n",
      "13809/13809 [==============================] - 31s 2ms/step - loss: 0.6662 - acc: 0.9493 - val_loss: 0.0894 - val_acc: 0.9702\n"
     ]
    }
   ],
   "source": [
    "########\n",
    "callbacks = [EarlyStopping(monitor='val_acc', patience=3),\n",
    "             ModelCheckpoint(filepath='best_model_simple_RNN_earn.h5', monitor = 'val_acc')]\n",
    "es = callbacks\n",
    "score_earn0 = []\n",
    "acc_earn0 = []\n",
    "cv_pred_0e = np.zeros([n_t])\n",
    "score_pred_0e = np.zeros([n_t])\n",
    "test_pred_0e = np.zeros([n_v])\n",
    "ind = 0\n",
    "model = GRU_simple()\n",
    "model.fit(X_train_e, Y_train_e, batch_size = 128, validation_split = 0.2, epochs = 80, callbacks = callbacks)\n",
    "#score, acc = model.evaluate(X_test, Y_test, batch_size = 128)\n",
    "#Get the CV prediction with 0-1 threshold encoding:\n",
    "#pred_current = model.predict(X_test)\n",
    "#score_pred_1e[test_index] = pred_current.reshape(-1)\n",
    "#pred_c = [1 if t> 0.5 else 0 for t in pred_current]\n",
    "pred_test = model.predict(X_test_e)\n",
    "test_pred_0e = pred_test.reshape(-1)\n",
    "#cv_pred_1e[test_index] = pred_c\n",
    "#score_earn1.append(score)\n",
    "#acc_earn1.append(acc)\n",
    "ind += 1"
   ]
  },
  {
   "cell_type": "code",
   "execution_count": 27,
   "metadata": {
    "scrolled": true
   },
   "outputs": [
    {
     "name": "stdout",
     "output_type": "stream",
     "text": [
      "Train on 13809 samples, validate on 3453 samples\n",
      "Epoch 1/80\n",
      "13809/13809 [==============================] - 31s 2ms/step - loss: 0.5819 - acc: 0.8919 - val_loss: 0.2210 - val_acc: 0.9073\n",
      "Epoch 2/80\n",
      "13809/13809 [==============================] - 30s 2ms/step - loss: 0.5096 - acc: 0.9235 - val_loss: 0.1385 - val_acc: 0.9403\n",
      "Epoch 3/80\n",
      "13809/13809 [==============================] - 30s 2ms/step - loss: 0.4367 - acc: 0.9410 - val_loss: 0.1134 - val_acc: 0.9534\n",
      "Epoch 4/80\n",
      "13809/13809 [==============================] - 31s 2ms/step - loss: 0.4404 - acc: 0.9448 - val_loss: 0.1247 - val_acc: 0.9432\n",
      "Epoch 5/80\n",
      "13809/13809 [==============================] - 32s 2ms/step - loss: 0.4511 - acc: 0.9480 - val_loss: 0.1082 - val_acc: 0.9589\n",
      "Epoch 6/80\n",
      "13809/13809 [==============================] - 31s 2ms/step - loss: 0.4399 - acc: 0.9500 - val_loss: 0.1107 - val_acc: 0.9545\n",
      "Epoch 7/80\n",
      "13809/13809 [==============================] - 33s 2ms/step - loss: 0.4250 - acc: 0.9545 - val_loss: 0.1108 - val_acc: 0.9551\n",
      "Epoch 8/80\n",
      "13809/13809 [==============================] - 31s 2ms/step - loss: 0.4264 - acc: 0.9557 - val_loss: 0.1169 - val_acc: 0.9516\n"
     ]
    }
   ],
   "source": [
    "########\n",
    "callbacks = [EarlyStopping(monitor='val_acc', patience=3),\n",
    "             ModelCheckpoint(filepath='best_model_simple_RNN_acq.h5', monitor = 'val_acc')]\n",
    "es = callbacks\n",
    "score_earn0 = []\n",
    "acc_earn0 = []\n",
    "cv_pred_0a = np.zeros([n_t])\n",
    "score_pred_0a = np.zeros([n_t])\n",
    "test_pred_0a = np.zeros([n_v])\n",
    "ind = 0\n",
    "model = GRU_simple()\n",
    "model.fit(X_train_a, Y_train_a, batch_size = 128, validation_split = 0.2, epochs = 80, callbacks = callbacks)\n",
    "#score, acc = model.evaluate(X_test, Y_test, batch_size = 128)\n",
    "#Get the CV prediction with 0-1 threshold encoding:\n",
    "#pred_current = model.predict(X_test)\n",
    "#score_pred_1e[test_index] = pred_current.reshape(-1)\n",
    "#pred_c = [1 if t> 0.5 else 0 for t in pred_current]\n",
    "pred_test = model.predict(X_test_a)\n",
    "test_pred_0a = pred_test.reshape(-1)\n",
    "#cv_pred_1e[test_index] = pred_c\n",
    "#score_earn1.append(score)\n",
    "#acc_earn1.append(acc)\n",
    "ind += 1"
   ]
  },
  {
   "cell_type": "code",
   "execution_count": 42,
   "metadata": {
    "scrolled": true
   },
   "outputs": [
    {
     "name": "stdout",
     "output_type": "stream",
     "text": [
      "_________________________________________________________________\n",
      "Layer (type)                 Output Shape              Param #   \n",
      "=================================================================\n",
      "embedding_23 (Embedding)     (None, 300, 300)          600000    \n",
      "_________________________________________________________________\n",
      "lstm_23 (LSTM)               (None, 64)                93440     \n",
      "_________________________________________________________________\n",
      "dense_23 (Dense)             (None, 1)                 65        \n",
      "_________________________________________________________________\n",
      "dropout_23 (Dropout)         (None, 1)                 0         \n",
      "=================================================================\n",
      "Total params: 693,505\n",
      "Trainable params: 93,505\n",
      "Non-trainable params: 600,000\n",
      "_________________________________________________________________\n",
      "Train on 13809 samples, validate on 3453 samples\n",
      "Epoch 1/80\n",
      "13809/13809 [==============================] - 56s 4ms/step - loss: 0.7812 - acc: 0.8993 - val_loss: 0.1507 - val_acc: 0.9438\n",
      "Epoch 2/80\n",
      "13809/13809 [==============================] - 48s 3ms/step - loss: 0.7295 - acc: 0.9246 - val_loss: 0.1210 - val_acc: 0.9528\n",
      "Epoch 3/80\n",
      "13809/13809 [==============================] - 52s 4ms/step - loss: 0.6953 - acc: 0.9322 - val_loss: 0.1020 - val_acc: 0.9618\n",
      "Epoch 4/80\n",
      "13809/13809 [==============================] - 49s 4ms/step - loss: 0.6525 - acc: 0.9390 - val_loss: 0.1022 - val_acc: 0.9586\n",
      "Epoch 5/80\n",
      "13809/13809 [==============================] - 49s 4ms/step - loss: 0.6520 - acc: 0.9425 - val_loss: 0.0832 - val_acc: 0.9690\n",
      "Epoch 6/80\n",
      "13809/13809 [==============================] - 48s 3ms/step - loss: 0.6753 - acc: 0.9434 - val_loss: 0.0895 - val_acc: 0.9673\n",
      "Epoch 7/80\n",
      "13809/13809 [==============================] - 50s 4ms/step - loss: 0.6667 - acc: 0.9421 - val_loss: 0.1074 - val_acc: 0.9632\n",
      "Epoch 8/80\n",
      "13809/13809 [==============================] - 51s 4ms/step - loss: 0.6621 - acc: 0.9454 - val_loss: 0.0871 - val_acc: 0.9696\n",
      "Epoch 9/80\n",
      "13809/13809 [==============================] - 47s 3ms/step - loss: 0.6293 - acc: 0.9501 - val_loss: 0.0911 - val_acc: 0.9699\n",
      "Epoch 10/80\n",
      "13809/13809 [==============================] - 45s 3ms/step - loss: 0.6423 - acc: 0.9521 - val_loss: 0.0919 - val_acc: 0.9670\n",
      "Epoch 11/80\n",
      "13809/13809 [==============================] - 56s 4ms/step - loss: 0.6742 - acc: 0.9532 - val_loss: 0.0963 - val_acc: 0.9681\n",
      "Epoch 12/80\n",
      "13809/13809 [==============================] - 52s 4ms/step - loss: 0.6718 - acc: 0.9538 - val_loss: 0.1016 - val_acc: 0.9710\n",
      "Epoch 13/80\n",
      "13809/13809 [==============================] - 50s 4ms/step - loss: 0.6598 - acc: 0.9483 - val_loss: 0.1103 - val_acc: 0.9615\n",
      "Epoch 14/80\n",
      "13809/13809 [==============================] - 52s 4ms/step - loss: 0.6202 - acc: 0.9521 - val_loss: 0.0998 - val_acc: 0.9641\n",
      "Epoch 15/80\n",
      "13809/13809 [==============================] - 55s 4ms/step - loss: 0.6310 - acc: 0.9567 - val_loss: 0.1051 - val_acc: 0.9664\n"
     ]
    }
   ],
   "source": [
    "##\n",
    "callbacks = [EarlyStopping(monitor='val_acc', patience=3),\n",
    "             ModelCheckpoint(filepath='best_model_simple_LSTM_earn.h5', monitor = 'val_acc')]\n",
    "es = callbacks\n",
    "score_earn1 = []\n",
    "acc_earn1 = []\n",
    "cv_pred_1e = np.zeros([n_t])\n",
    "score_pred_1e = np.zeros([n_t])\n",
    "test_pred_1e = np.zeros([n_v])\n",
    "ind = 0\n",
    "model = LSTM_simple()\n",
    "model.fit(X_train_e, Y_train_e, batch_size = 128, validation_split = 0.2, epochs = 80, callbacks = callbacks)\n",
    "#score, acc = model.evaluate(X_test, Y_test, batch_size = 128)\n",
    "#Get the CV prediction with 0-1 threshold encoding:\n",
    "#pred_current = model.predict(X_test)\n",
    "#score_pred_1e[test_index] = pred_current.reshape(-1)\n",
    "#pred_c = [1 if t> 0.5 else 0 for t in pred_current]\n",
    "pred_test = model.predict(X_test_e)\n",
    "test_pred_1e = pred_test.reshape(-1)\n",
    "#cv_pred_1e[test_index] = pred_c\n",
    "#score_earn1.append(score)\n",
    "#acc_earn1.append(acc)\n",
    "ind += 1\n"
   ]
  },
  {
   "cell_type": "code",
   "execution_count": 43,
   "metadata": {
    "scrolled": true
   },
   "outputs": [
    {
     "name": "stdout",
     "output_type": "stream",
     "text": [
      "_________________________________________________________________\n",
      "Layer (type)                 Output Shape              Param #   \n",
      "=================================================================\n",
      "embedding_24 (Embedding)     (None, 300, 300)          600000    \n",
      "_________________________________________________________________\n",
      "lstm_24 (LSTM)               (None, 64)                93440     \n",
      "_________________________________________________________________\n",
      "dense_24 (Dense)             (None, 1)                 65        \n",
      "_________________________________________________________________\n",
      "dropout_24 (Dropout)         (None, 1)                 0         \n",
      "=================================================================\n",
      "Total params: 693,505\n",
      "Trainable params: 93,505\n",
      "Non-trainable params: 600,000\n",
      "_________________________________________________________________\n",
      "Train on 13809 samples, validate on 3453 samples\n",
      "Epoch 1/80\n",
      "13809/13809 [==============================] - 52s 4ms/step - loss: 0.5375 - acc: 0.9048 - val_loss: 0.1316 - val_acc: 0.9461\n",
      "Epoch 2/80\n",
      "13809/13809 [==============================] - 43s 3ms/step - loss: 0.4820 - acc: 0.9300 - val_loss: 0.1507 - val_acc: 0.9360\n",
      "Epoch 3/80\n",
      "13809/13809 [==============================] - 46s 3ms/step - loss: 0.4692 - acc: 0.9387 - val_loss: 0.1267 - val_acc: 0.9496\n",
      "Epoch 4/80\n",
      "13809/13809 [==============================] - 45s 3ms/step - loss: 0.4457 - acc: 0.9454 - val_loss: 0.1201 - val_acc: 0.9534\n",
      "Epoch 5/80\n",
      "13809/13809 [==============================] - 52s 4ms/step - loss: 0.4677 - acc: 0.9467 - val_loss: 0.1286 - val_acc: 0.9508\n",
      "Epoch 6/80\n",
      "13809/13809 [==============================] - 53s 4ms/step - loss: 0.4365 - acc: 0.9481 - val_loss: 0.1199 - val_acc: 0.9502\n",
      "Epoch 7/80\n",
      "13809/13809 [==============================] - 46s 3ms/step - loss: 0.4553 - acc: 0.9504 - val_loss: 0.1173 - val_acc: 0.9525\n"
     ]
    }
   ],
   "source": [
    "#LSTM1 for the acq:\n",
    "callbacks = [EarlyStopping(monitor='val_acc', patience=3),\n",
    "             ModelCheckpoint(filepath='best_model_simple_LSTM_acq.h5', monitor = 'val_acc')]\n",
    "\n",
    "score_acq1 = []\n",
    "acc_acq1 = []\n",
    "cv_pred_1a = np.zeros([n_t])\n",
    "score_pred_1a = np.zeros([n_t])\n",
    "test_pred_1a = np.zeros([n_v])\n",
    "ind = 0\n",
    "model = LSTM_simple()\n",
    "model.fit(X_train_a, Y_train_a, batch_size = 128, validation_split = 0.2, epochs = 80, callbacks = callbacks)\n",
    "#score, acc = model.evaluate(X_test, Y_test, batch_size = 128)\n",
    "#Get the CV prediction with 0-1 threshold encoding:\n",
    "#pred_current = model.predict(X_test)\n",
    "#score_pred_1e[test_index] = pred_current.reshape(-1)\n",
    "#pred_c = [1 if t> 0.5 else 0 for t in pred_current]\n",
    "pred_test = model.predict(X_test_a)\n",
    "test_pred_1a = pred_test.reshape(-1)\n",
    "#cv_pred_1e[test_index] = pred_c\n",
    "#score_earn1.append(score)\n",
    "#acc_earn1.append(acc)\n"
   ]
  },
  {
   "cell_type": "code",
   "execution_count": 44,
   "metadata": {},
   "outputs": [],
   "source": [
    "#Bidirectional LSTM classification:\n",
    "def LSTM_simple_bi():\n",
    "    model_ls1 = Sequential()\n",
    "    model_ls1.add(Embedding(2000, output_dim = 64))\n",
    "    model_ls1.add(Bidirectional(LSTM(48, return_sequences = True)))\n",
    "    model_ls1.add(Bidirectional(LSTM(48)))\n",
    "    model_ls1.add(Dense(1, activation = 'sigmoid'))\n",
    "    OPTIM = Adam(lr=0.001)\n",
    "    model_ls1.compile(loss = 'binary_crossentropy',\n",
    "                 optimizer = OPTIM, metrics = ['accuracy'])\n",
    "    model_ls1.summary()\n",
    "    return model_ls1"
   ]
  },
  {
   "cell_type": "code",
   "execution_count": 45,
   "metadata": {
    "scrolled": true
   },
   "outputs": [
    {
     "name": "stdout",
     "output_type": "stream",
     "text": [
      "_________________________________________________________________\n",
      "Layer (type)                 Output Shape              Param #   \n",
      "=================================================================\n",
      "embedding_25 (Embedding)     (None, None, 64)          128000    \n",
      "_________________________________________________________________\n",
      "bidirectional_1 (Bidirection (None, None, 96)          43392     \n",
      "_________________________________________________________________\n",
      "bidirectional_2 (Bidirection (None, 96)                55680     \n",
      "_________________________________________________________________\n",
      "dense_25 (Dense)             (None, 1)                 97        \n",
      "=================================================================\n",
      "Total params: 227,169\n",
      "Trainable params: 227,169\n",
      "Non-trainable params: 0\n",
      "_________________________________________________________________\n",
      "Train on 13809 samples, validate on 3453 samples\n",
      "Epoch 1/80\n",
      "13809/13809 [==============================] - 111s 8ms/step - loss: 0.2664 - acc: 0.9124 - val_loss: 0.1313 - val_acc: 0.9519\n",
      "Epoch 2/80\n",
      "13809/13809 [==============================] - 104s 8ms/step - loss: 0.0932 - acc: 0.9655 - val_loss: 0.1191 - val_acc: 0.9583\n",
      "Epoch 3/80\n",
      "13809/13809 [==============================] - 97s 7ms/step - loss: 0.0692 - acc: 0.9772 - val_loss: 0.1257 - val_acc: 0.9566\n",
      "Epoch 4/80\n",
      "13809/13809 [==============================] - 90s 6ms/step - loss: 0.0538 - acc: 0.9833 - val_loss: 0.1467 - val_acc: 0.9548\n",
      "Epoch 5/80\n",
      "13809/13809 [==============================] - 89s 6ms/step - loss: 0.0467 - acc: 0.9868 - val_loss: 0.1464 - val_acc: 0.9522\n"
     ]
    }
   ],
   "source": [
    "#Acq fitting:\n",
    "##\n",
    "callbacks = [EarlyStopping(monitor='val_acc', patience=3),\n",
    "             ModelCheckpoint(filepath='best_model_bidirec_LSTM_acq.h5', monitor = 'val_acc')]\n",
    "es = callbacks\n",
    "score_earn2 = []\n",
    "acc_earn2 = []\n",
    "cv_pred_2a = np.zeros([n_t])\n",
    "score_pred_2a = np.zeros([n_t])\n",
    "test_pred_2a = np.zeros([n_v])\n",
    "\n",
    "model = LSTM_simple_bi()\n",
    "model.fit(X_train_a, Y_train_a, batch_size = 128, validation_split = 0.2, epochs = 80, callbacks = callbacks)\n",
    "#score, acc = model.evaluate(X_test, Y_test, batch_size = 128)\n",
    "#Get the CV prediction with 0-1 threshold encoding:\n",
    "#pred_current = model.predict(X_test)\n",
    "#score_pred_1e[test_index] = pred_current.reshape(-1)\n",
    "#pred_c = [1 if t> 0.5 else 0 for t in pred_current]\n",
    "pred_test = model.predict(X_test_a)\n",
    "test_pred_2a = pred_test.reshape(-1)\n"
   ]
  },
  {
   "cell_type": "code",
   "execution_count": 54,
   "metadata": {
    "scrolled": true
   },
   "outputs": [
    {
     "name": "stdout",
     "output_type": "stream",
     "text": [
      "_________________________________________________________________\n",
      "Layer (type)                 Output Shape              Param #   \n",
      "=================================================================\n",
      "embedding_27 (Embedding)     (None, None, 64)          128000    \n",
      "_________________________________________________________________\n",
      "bidirectional_5 (Bidirection (None, None, 96)          43392     \n",
      "_________________________________________________________________\n",
      "bidirectional_6 (Bidirection (None, 96)                55680     \n",
      "_________________________________________________________________\n",
      "dense_27 (Dense)             (None, 1)                 97        \n",
      "=================================================================\n",
      "Total params: 227,169\n",
      "Trainable params: 227,169\n",
      "Non-trainable params: 0\n",
      "_________________________________________________________________\n",
      "Train on 13809 samples, validate on 3453 samples\n",
      "Epoch 1/80\n",
      "13809/13809 [==============================] - 85s 6ms/step - loss: 0.2605 - acc: 0.8992 - val_loss: 0.1161 - val_acc: 0.9597\n",
      "Epoch 2/80\n",
      "13809/13809 [==============================] - 83s 6ms/step - loss: 0.0867 - acc: 0.9710 - val_loss: 0.0931 - val_acc: 0.9676\n",
      "Epoch 3/80\n",
      "13809/13809 [==============================] - 85s 6ms/step - loss: 0.0651 - acc: 0.9782 - val_loss: 0.0991 - val_acc: 0.9644\n",
      "Epoch 4/80\n",
      "13809/13809 [==============================] - 86s 6ms/step - loss: 0.0502 - acc: 0.9837 - val_loss: 0.0942 - val_acc: 0.9670\n",
      "Epoch 5/80\n",
      "13809/13809 [==============================] - 1422s 103ms/step - loss: 0.0430 - acc: 0.9866 - val_loss: 0.1203 - val_acc: 0.9632\n"
     ]
    }
   ],
   "source": [
    "##\n",
    "##\n",
    "callbacks = [EarlyStopping(monitor='val_acc', patience=3),\n",
    "             ModelCheckpoint(filepath='best_model_bidirec_LSTM_earn.h5', monitor = 'val_acc')]\n",
    "es = callbacks\n",
    "score_earn2 = []\n",
    "acc_earn2 = []\n",
    "cv_pred_2e = np.zeros([n_t])\n",
    "score_pred_2e = np.zeros([n_t])\n",
    "test_pred_2e = np.zeros([n_v])\n",
    "\n",
    "model = LSTM_simple_bi()\n",
    "model.fit(X_train_e, Y_train_e, batch_size = 128, validation_split = 0.2, epochs = 80, callbacks = callbacks)\n",
    "#score, acc = model.evaluate(X_test, Y_test, batch_size = 128)\n",
    "#Get the CV prediction with 0-1 threshold encoding:\n",
    "#pred_current = model.predict(X_test)\n",
    "#score_pred_1e[test_index] = pred_current.reshape(-1)\n",
    "#pred_c = [1 if t> 0.5 else 0 for t in pred_current]\n",
    "pred_test = model.predict(X_test_e)\n",
    "test_pred_2e = pred_test.reshape(-1)"
   ]
  },
  {
   "cell_type": "code",
   "execution_count": 55,
   "metadata": {},
   "outputs": [],
   "source": [
    "def LSTM_AE_clf_binary(n_feature,\n",
    "                inter_dim1, \n",
    "                latent_dim, \n",
    "                vocab_size, \n",
    "                embedding_dim, \n",
    "                max_length, \n",
    "                embedding_matrix):\n",
    "\n",
    "\t\"\"\"\n",
    "\t:Construct a variational autoencoder with LSTM as component.\n",
    "\tParam:\n",
    "\tinput_dim1:\n",
    "\tinput_dim2:\n",
    "\tinter_dim1: Intermediate dimension for hidden layer\n",
    "\tlatent_dim: \n",
    "\t\"\"\"\n",
    "\tOPTIM = Adam(lr = 0.002)\n",
    "\n",
    "\t#Embedding: Start from the word count frequency matrix and first we get the word embedding from a previous text database:\n",
    "\tX_input = Input(shape = (n_feature, ))\n",
    "\tX = Embedding(vocab_size, embedding_dim, input_length = max_length,\n",
    "\t\tweights = [embedding_matrix], trainable = False)(X_input)\n",
    "\n",
    "\t#Encoder:\n",
    "\tENC = LSTM(inter_dim1, return_sequences = True)(X)\n",
    "\n",
    "\tlatent = LSTM(latent_dim)(ENC)\n",
    "\n",
    "\t#Decoder:\n",
    "\tDEC = RepeatVector(embedding_dim)(latent)\n",
    "\tDEC = LSTM(inter_dim1, return_sequences = True)(DEC)\n",
    "\tDEC = LSTM(inter_dim1)(DEC)\n",
    "\toutput = Dense(embedding_dim, activation = 'softmax', name = 'AE')(DEC)\n",
    "\n",
    "\n",
    "\t#Attach a classifier:\n",
    "\th1 = Dense(np.int(latent_dim / 2), activation = 'relu')(latent)\n",
    "\th1 = Dropout(0.2)(h1)\n",
    "\tpred = Dense(1, activation = 'sigmoid', name = 'CLASF')(h1)\n",
    "\t#\n",
    "\tencoder = Model(input = X_input, outputs = latent)\n",
    "\tautoencoder = Model(input = X_input, outputs = [output, pred])\n",
    "\tautoencoder.compile(optimizer = OPTIM, loss =  {'AE':'mse', 'CLASF':'binary_crossentropy'}, metrics = ['accuracy'])\n",
    "\n",
    "\treturn encoder, autoencoder\n",
    "\n"
   ]
  },
  {
   "cell_type": "code",
   "execution_count": 56,
   "metadata": {},
   "outputs": [
    {
     "name": "stderr",
     "output_type": "stream",
     "text": [
      "/Users/ruanhq/anaconda3/lib/python3.7/site-packages/ipykernel_launcher.py:41: UserWarning: Update your `Model` call to the Keras 2 API: `Model(outputs=Tensor(\"ls..., inputs=Tensor(\"in...)`\n",
      "/Users/ruanhq/anaconda3/lib/python3.7/site-packages/ipykernel_launcher.py:42: UserWarning: Update your `Model` call to the Keras 2 API: `Model(outputs=[<tf.Tenso..., inputs=Tensor(\"in...)`\n"
     ]
    }
   ],
   "source": [
    "encoder_earn1, AE_earn1 = LSTM_AE_clf_binary(n_feature = 300,\n",
    "                      inter_dim1 = 64,\n",
    "                      latent_dim = 32,\n",
    "                      vocab_size = 2000,\n",
    "                      embedding_dim = 300,\n",
    "                      max_length = 300,\n",
    "                      embedding_matrix = embedding_matrix\n",
    "                      )"
   ]
  },
  {
   "cell_type": "code",
   "execution_count": 60,
   "metadata": {
    "scrolled": true
   },
   "outputs": [
    {
     "name": "stdout",
     "output_type": "stream",
     "text": [
      "Train on 13809 samples, validate on 3453 samples\n",
      "Epoch 1/80\n",
      "13809/13809 [==============================] - 98s 7ms/step - loss: 79425.5183 - AE_loss: 79425.5127 - CLASF_loss: 0.0058 - AE_acc: 0.0311 - CLASF_acc: 0.9980 - val_loss: 77853.3486 - val_AE_loss: 77853.1424 - val_CLASF_loss: 0.2055 - val_AE_acc: 0.0319 - val_CLASF_acc: 0.9687\n",
      "Epoch 2/80\n",
      "13809/13809 [==============================] - 104s 8ms/step - loss: 79425.5199 - AE_loss: 79425.5131 - CLASF_loss: 0.0069 - AE_acc: 0.0311 - CLASF_acc: 0.9980 - val_loss: 77853.3173 - val_AE_loss: 77853.1424 - val_CLASF_loss: 0.1752 - val_AE_acc: 0.0319 - val_CLASF_acc: 0.9734\n",
      "Epoch 3/80\n",
      "13809/13809 [==============================] - 101s 7ms/step - loss: 79425.5161 - AE_loss: 79425.5123 - CLASF_loss: 0.0042 - AE_acc: 0.0311 - CLASF_acc: 0.9988 - val_loss: 77853.3274 - val_AE_loss: 77853.1424 - val_CLASF_loss: 0.1850 - val_AE_acc: 0.0319 - val_CLASF_acc: 0.9713\n",
      "Epoch 4/80\n",
      "13809/13809 [==============================] - 104s 8ms/step - loss: 79425.5171 - AE_loss: 79425.5124 - CLASF_loss: 0.0052 - AE_acc: 0.0311 - CLASF_acc: 0.9983 - val_loss: 77853.3331 - val_AE_loss: 77853.1424 - val_CLASF_loss: 0.1904 - val_AE_acc: 0.0319 - val_CLASF_acc: 0.9708\n",
      "Epoch 5/80\n",
      "13809/13809 [==============================] - 97s 7ms/step - loss: 79425.5192 - AE_loss: 79425.5124 - CLASF_loss: 0.0073 - AE_acc: 0.0311 - CLASF_acc: 0.9983 - val_loss: 77853.3256 - val_AE_loss: 77853.1424 - val_CLASF_loss: 0.1831 - val_AE_acc: 0.0319 - val_CLASF_acc: 0.9722\n"
     ]
    }
   ],
   "source": [
    "#Joint training of AE and classifier:\n",
    "callbacks = [EarlyStopping(monitor='val_CLASF_acc', patience=3),\n",
    "             ModelCheckpoint(filepath='best_model_AE_LSTM_earn.h5', monitor = 'val_CLASF_acc')]\n",
    "es = callbacks\n",
    "score_earn3 = []\n",
    "acc_earn3 = []\n",
    "cv_pred_3e = np.zeros([n_t])\n",
    "score_pred_3e = np.zeros([n_t])\n",
    "test_pred_3e = np.zeros([n_v])\n",
    "model = AE_earn1\n",
    "model.fit(X_train_e, [X_train_e, Y_train_e], batch_size = 128, validation_split = 0.2, epochs = 80, callbacks = callbacks)\n",
    "#score, acc = model.evaluate(X_test, Y_test, batch_size = 128)\n",
    "#Get the CV prediction with 0-1 threshold encoding:\n",
    "#pred_current = model.predict(X_test)\n",
    "#score_pred_1e[test_index] = pred_current.reshape(-1)\n",
    "#pred_c = [1 if t> 0.5 else 0 for t in pred_current]\n",
    "_, pred_test = model.predict(X_test_e)\n",
    "test_pred_3e = pred_test.reshape(-1)\n",
    "#cv_pred_1e[test_index] = pred_c\n",
    "#score_earn1.append(score)\n",
    "#acc_earn1.append(acc)\n",
    "latent_earn1 = encoder_earn1.predict(X_matrix)"
   ]
  },
  {
   "cell_type": "code",
   "execution_count": 61,
   "metadata": {},
   "outputs": [
    {
     "name": "stderr",
     "output_type": "stream",
     "text": [
      "/Users/ruanhq/anaconda3/lib/python3.7/site-packages/ipykernel_launcher.py:41: UserWarning: Update your `Model` call to the Keras 2 API: `Model(outputs=Tensor(\"ls..., inputs=Tensor(\"in...)`\n",
      "/Users/ruanhq/anaconda3/lib/python3.7/site-packages/ipykernel_launcher.py:42: UserWarning: Update your `Model` call to the Keras 2 API: `Model(outputs=[<tf.Tenso..., inputs=Tensor(\"in...)`\n"
     ]
    }
   ],
   "source": [
    "encoder_acq1, AE_acq1 = LSTM_AE_clf_binary(n_feature = 300,\n",
    "                      inter_dim1 = 64,\n",
    "                      latent_dim = 32,\n",
    "                      vocab_size = 2000,\n",
    "                      embedding_dim = 300,\n",
    "                      max_length = 300,\n",
    "                      embedding_matrix = embedding_matrix\n",
    "                      )"
   ]
  },
  {
   "cell_type": "code",
   "execution_count": 62,
   "metadata": {
    "scrolled": true
   },
   "outputs": [
    {
     "name": "stdout",
     "output_type": "stream",
     "text": [
      "Train on 13809 samples, validate on 3453 samples\n",
      "Epoch 1/80\n",
      "13809/13809 [==============================] - 109s 8ms/step - loss: 78695.6310 - AE_loss: 78695.3748 - CLASF_loss: 0.2560 - AE_acc: 0.0259 - CLASF_acc: 0.9015 - val_loss: 78459.7895 - val_AE_loss: 78459.6500 - val_CLASF_loss: 0.1394 - val_AE_acc: 0.0339 - val_CLASF_acc: 0.9444\n",
      "Epoch 2/80\n",
      "13809/13809 [==============================] - 98s 7ms/step - loss: 78695.1050 - AE_loss: 78694.9691 - CLASF_loss: 0.1359 - AE_acc: 0.0301 - CLASF_acc: 0.9473 - val_loss: 78459.7678 - val_AE_loss: 78459.6314 - val_CLASF_loss: 0.1359 - val_AE_acc: 0.0342 - val_CLASF_acc: 0.9395\n",
      "Epoch 3/80\n",
      "13809/13809 [==============================] - 106s 8ms/step - loss: 78695.0973 - AE_loss: 78694.9782 - CLASF_loss: 0.1192 - AE_acc: 0.0295 - CLASF_acc: 0.9553 - val_loss: 78459.7421 - val_AE_loss: 78459.6344 - val_CLASF_loss: 0.1075 - val_AE_acc: 0.0342 - val_CLASF_acc: 0.9586\n",
      "Epoch 4/80\n",
      "13809/13809 [==============================] - 107s 8ms/step - loss: 78695.0525 - AE_loss: 78694.9529 - CLASF_loss: 0.0991 - AE_acc: 0.0306 - CLASF_acc: 0.9623 - val_loss: 78459.7406 - val_AE_loss: 78459.6173 - val_CLASF_loss: 0.1237 - val_AE_acc: 0.0345 - val_CLASF_acc: 0.9421\n",
      "Epoch 5/80\n",
      "13809/13809 [==============================] - 102s 7ms/step - loss: 78695.0413 - AE_loss: 78694.9499 - CLASF_loss: 0.0918 - AE_acc: 0.0307 - CLASF_acc: 0.9638 - val_loss: 78459.7226 - val_AE_loss: 78459.6162 - val_CLASF_loss: 0.1067 - val_AE_acc: 0.0345 - val_CLASF_acc: 0.9586\n",
      "Epoch 6/80\n",
      "13809/13809 [==============================] - 99s 7ms/step - loss: 78695.0329 - AE_loss: 78694.9501 - CLASF_loss: 0.0828 - AE_acc: 0.0307 - CLASF_acc: 0.9689 - val_loss: 78459.7200 - val_AE_loss: 78459.6162 - val_CLASF_loss: 0.1032 - val_AE_acc: 0.0345 - val_CLASF_acc: 0.9597\n",
      "Epoch 7/80\n",
      "13809/13809 [==============================] - 105s 8ms/step - loss: 78695.0195 - AE_loss: 78694.9500 - CLASF_loss: 0.0697 - AE_acc: 0.0307 - CLASF_acc: 0.9731 - val_loss: 78459.7183 - val_AE_loss: 78459.6159 - val_CLASF_loss: 0.1023 - val_AE_acc: 0.0345 - val_CLASF_acc: 0.9577\n",
      "Epoch 8/80\n",
      "13809/13809 [==============================] - 104s 8ms/step - loss: 78695.0115 - AE_loss: 78694.9500 - CLASF_loss: 0.0619 - AE_acc: 0.0307 - CLASF_acc: 0.9774 - val_loss: 78459.7420 - val_AE_loss: 78459.6153 - val_CLASF_loss: 0.1270 - val_AE_acc: 0.0345 - val_CLASF_acc: 0.9595\n",
      "Epoch 9/80\n",
      "13809/13809 [==============================] - 101s 7ms/step - loss: 78694.9998 - AE_loss: 78694.9493 - CLASF_loss: 0.0506 - AE_acc: 0.0307 - CLASF_acc: 0.9812 - val_loss: 78459.7418 - val_AE_loss: 78459.6152 - val_CLASF_loss: 0.1263 - val_AE_acc: 0.0345 - val_CLASF_acc: 0.9583\n"
     ]
    }
   ],
   "source": [
    "#Joint training of AE and classifier:\n",
    "callbacks = [EarlyStopping(monitor='val_CLASF_acc', patience=3),\n",
    "             ModelCheckpoint(filepath='best_model_AE_LSTM_acq.h5', monitor = 'val_CLASF_acc')]\n",
    "es = callbacks\n",
    "score_earn3 = []\n",
    "acc_earn3 = []\n",
    "cv_pred_3a = np.zeros([n_t])\n",
    "score_pred_3a = np.zeros([n_t])\n",
    "test_pred_3a = np.zeros([n_v])\n",
    "model = AE_acq1\n",
    "model.fit(X_train_a, [X_train_a, Y_train_a], batch_size = 128, validation_split = 0.2, epochs = 80, callbacks = callbacks)\n",
    "#score, acc = model.evaluate(X_test, Y_test, batch_size = 128)\n",
    "#Get the CV prediction with 0-1 threshold encoding:\n",
    "#pred_current = model.predict(X_test)\n",
    "#score_pred_1e[test_index] = pred_current.reshape(-1)\n",
    "#pred_c = [1 if t> 0.5 else 0 for t in pred_current]\n",
    "_, pred_test = model.predict(X_test_a)\n",
    "test_pred_3a = pred_test.reshape(-1)\n",
    "latent_acq1 = encoder_acq1.predict(X_matrix)\n"
   ]
  },
  {
   "cell_type": "code",
   "execution_count": 80,
   "metadata": {},
   "outputs": [],
   "source": [
    "#VAE evaluation:\n",
    "def LSTM_VAE_clf(n_feature,\n",
    "\tinter_dim1,\n",
    "\tlatent_dim,\n",
    "\tvocab_size,\n",
    "\tembedding_dim,\n",
    "\tmax_length,\n",
    "\tembedding_matrix):\n",
    "\t\"\"\"\n",
    "\t:Implement the VAE algorithm to do classification with the LSTM as the component architecture\n",
    "\t:::\n",
    "\tParams:\n",
    "\tn_feature        : # of input features\n",
    "\tinter_dim1       : # of hidden units\n",
    "\tlatent_dim       : dimension of latent space\n",
    "\tvocab_size       : Vocabulary size\n",
    "    embedding_dim    : The dimension of word embedding\n",
    "    max_length       : The maximum length of words we use\n",
    "    embedding_matrix : Pre-specified word embedding matrix\n",
    "    \"\"\"\n",
    "\tOPTIM = Adam(lr = 0.005)\n",
    "\n",
    "\t#Embedding: Start from word count matrix:\n",
    "\tX_input = Input(shape = (n_feature, ))\n",
    "\tX = Embedding(vocab_size, embedding_dim, input_length = max_length,\n",
    "\t\tweights = [embedding_matrix], trainable = False)(X_input)\n",
    "\n",
    "\n",
    "\t#Encoder:\n",
    "\tENC = LSTM(inter_dim1, return_sequences = False)(X)\n",
    "\tENC = Dense(inter_dim1, activation = 'relu')(ENC)\n",
    "\n",
    "\tdef sampling(args):\n",
    "\t\tz_mean_, z_log_sigma_ = args\n",
    "\t\tbatch_size = K.shape(z_mean_)[0]\n",
    "\t\tepsilon = K.random_normal(shape = (batch_size, latent_dim), mean = 0,\n",
    "\t\t\tstddev = 1.0)\n",
    "\t\tz = z_mean_ + K.exp(z_log_sigma_ / 2) * epsilon\n",
    "\t\treturn z\n",
    "\n",
    "\tz_mean = Dense(latent_dim, activation = 'relu')(ENC)\n",
    "\tz_log_sigma = Dense(latent_dim, activation = 'relu')(ENC)\n",
    "\n",
    "\tz = Lambda(sampling, output_shape = (latent_dim, ))([z_mean, z_log_sigma])\n",
    "\n",
    "\n",
    "\t#Decoder:\n",
    "\tDEC = RepeatVector(embedding_dim)(z)\n",
    "\n",
    "\tJ = LSTM(inter_dim1, return_sequences = True)(DEC)\n",
    "\tDEC = LSTM(inter_dim1)(DEC)\n",
    "\n",
    "\tdecoded = Dense(n_feature, activation = 'softmax', name = 'VAE')(DEC)\n",
    "\n",
    "\t#Define VAE loss:\n",
    "\tdef vae_loss(x, x_dec):\n",
    "\t\t#recon_loss + kl_loss\n",
    "\t\trecon_loss = losses.mean_squared_error(x, x_dec)\n",
    "\t\tkl_loss = - 0.5 * K.mean(1 + z_log_sigma - K.square(z_mean) - K.exp(z_log_sigma), axis = -1)\n",
    "\t\tvae_loss = recon_loss + kl_loss\n",
    "\n",
    "\t\treturn vae_loss\n",
    "\n",
    "\t#Attach another classifier at the latent space  of the VAE:\n",
    "\tI = Dense(np.int(latent_dim / 2), activation = 'relu')(z)\n",
    "\tI = Dropout(0.2)(I)\n",
    "\tpred = Dense(1, activation = 'sigmoid', name = 'CLASF')(I)\n",
    "\n",
    "\n",
    "\n",
    "\tVAE_clf = Model(input = X_input, outputs = [decoded, pred])\n",
    "\tVAE_clf.compile(optimizer = OPTIM, loss = {'VAE' : vae_loss, 'CLASF':'binary_crossentropy'}, metrics = ['accuracy'])\n",
    "\tencoder = Model(input = X_input, outputs = z)\n",
    "\n",
    "\treturn encoder, VAE_clf"
   ]
  },
  {
   "cell_type": "code",
   "execution_count": 81,
   "metadata": {},
   "outputs": [
    {
     "name": "stderr",
     "output_type": "stream",
     "text": [
      "/Users/ruanhq/anaconda3/lib/python3.7/site-packages/ipykernel_launcher.py:71: UserWarning: Update your `Model` call to the Keras 2 API: `Model(outputs=[<tf.Tenso..., inputs=Tensor(\"in...)`\n",
      "/Users/ruanhq/anaconda3/lib/python3.7/site-packages/ipykernel_launcher.py:73: UserWarning: Update your `Model` call to the Keras 2 API: `Model(outputs=Tensor(\"la..., inputs=Tensor(\"in...)`\n"
     ]
    }
   ],
   "source": [
    "VAE_encoder_earn, VAE_earn = LSTM_VAE_clf(n_feature = 300,\n",
    "                      inter_dim1 = 64,\n",
    "                      latent_dim = 32,\n",
    "                      vocab_size = 2000,\n",
    "                      embedding_dim = 300,\n",
    "                      max_length = 300,\n",
    "                      embedding_matrix = embedding_matrix\n",
    "                      )"
   ]
  },
  {
   "cell_type": "code",
   "execution_count": 83,
   "metadata": {
    "scrolled": true
   },
   "outputs": [
    {
     "name": "stdout",
     "output_type": "stream",
     "text": [
      "Train on 13809 samples, validate on 3453 samples\n",
      "Epoch 1/80\n",
      "13809/13809 [==============================] - 67s 5ms/step - loss: 79426.2444 - VAE_loss: 79425.9251 - CLASF_loss: 0.3194 - VAE_acc: 0.0249 - CLASF_acc: 0.8748 - val_loss: 77853.4272 - val_VAE_loss: 77853.2191 - val_CLASF_loss: 0.2082 - val_VAE_acc: 0.0316 - val_CLASF_acc: 0.9178\n",
      "Epoch 2/80\n",
      "13809/13809 [==============================] - 65s 5ms/step - loss: 79425.7929 - VAE_loss: 79425.5893 - CLASF_loss: 0.2036 - VAE_acc: 0.0311 - CLASF_acc: 0.9254 - val_loss: 77853.3804 - val_VAE_loss: 77853.2232 - val_CLASF_loss: 0.1572 - val_VAE_acc: 0.0319 - val_CLASF_acc: 0.9415\n",
      "Epoch 3/80\n",
      "13809/13809 [==============================] - 66s 5ms/step - loss: 79425.9530 - VAE_loss: 79425.7704 - CLASF_loss: 0.1826 - VAE_acc: 0.0276 - CLASF_acc: 0.9379 - val_loss: 77853.8380 - val_VAE_loss: 77853.6603 - val_CLASF_loss: 0.1779 - val_VAE_acc: 0.0249 - val_CLASF_acc: 0.9380\n",
      "Epoch 4/80\n",
      "13809/13809 [==============================] - 68s 5ms/step - loss: 79426.0150 - VAE_loss: 79425.8611 - CLASF_loss: 0.1538 - VAE_acc: 0.0240 - CLASF_acc: 0.9456 - val_loss: 77853.4438 - val_VAE_loss: 77853.3112 - val_CLASF_loss: 0.1327 - val_VAE_acc: 0.0295 - val_CLASF_acc: 0.9531\n",
      "Epoch 5/80\n",
      "13809/13809 [==============================] - 67s 5ms/step - loss: 79425.7638 - VAE_loss: 79425.6212 - CLASF_loss: 0.1426 - VAE_acc: 0.0272 - CLASF_acc: 0.9544 - val_loss: 77853.4495 - val_VAE_loss: 77853.3227 - val_CLASF_loss: 0.1265 - val_VAE_acc: 0.0264 - val_CLASF_acc: 0.9583\n",
      "Epoch 6/80\n",
      "13809/13809 [==============================] - 68s 5ms/step - loss: 79425.8082 - VAE_loss: 79425.6838 - CLASF_loss: 0.1244 - VAE_acc: 0.0256 - CLASF_acc: 0.9613 - val_loss: 77853.4569 - val_VAE_loss: 77853.3062 - val_CLASF_loss: 0.1507 - val_VAE_acc: 0.0281 - val_CLASF_acc: 0.9563\n",
      "Epoch 7/80\n",
      "13809/13809 [==============================] - 72s 5ms/step - loss: 79425.8907 - VAE_loss: 79425.7395 - CLASF_loss: 0.1510 - VAE_acc: 0.0256 - CLASF_acc: 0.9525 - val_loss: 77853.4210 - val_VAE_loss: 77853.2747 - val_CLASF_loss: 0.1466 - val_VAE_acc: 0.0269 - val_CLASF_acc: 0.9534\n",
      "Epoch 8/80\n",
      "13809/13809 [==============================] - 68s 5ms/step - loss: 79425.8182 - VAE_loss: 79425.6876 - CLASF_loss: 0.1308 - VAE_acc: 0.0247 - CLASF_acc: 0.9603 - val_loss: 77853.4261 - val_VAE_loss: 77853.2998 - val_CLASF_loss: 0.1267 - val_VAE_acc: 0.0249 - val_CLASF_acc: 0.9618\n",
      "Epoch 9/80\n",
      "13809/13809 [==============================] - 74s 5ms/step - loss: 79425.7733 - VAE_loss: 79425.6651 - CLASF_loss: 0.1085 - VAE_acc: 0.0275 - CLASF_acc: 0.9650 - val_loss: 77853.4331 - val_VAE_loss: 77853.3002 - val_CLASF_loss: 0.1331 - val_VAE_acc: 0.0281 - val_CLASF_acc: 0.9615\n",
      "Epoch 10/80\n",
      "13809/13809 [==============================] - 70s 5ms/step - loss: 79425.7785 - VAE_loss: 79425.6771 - CLASF_loss: 0.1014 - VAE_acc: 0.0248 - CLASF_acc: 0.9689 - val_loss: 77853.4774 - val_VAE_loss: 77853.3436 - val_CLASF_loss: 0.1335 - val_VAE_acc: 0.0261 - val_CLASF_acc: 0.9676\n",
      "Epoch 11/80\n",
      "13809/13809 [==============================] - 73s 5ms/step - loss: 79425.7538 - VAE_loss: 79425.6547 - CLASF_loss: 0.0991 - VAE_acc: 0.0277 - CLASF_acc: 0.9710 - val_loss: 77853.4051 - val_VAE_loss: 77853.2450 - val_CLASF_loss: 0.1601 - val_VAE_acc: 0.0243 - val_CLASF_acc: 0.9531\n",
      "Epoch 12/80\n",
      "13809/13809 [==============================] - 65s 5ms/step - loss: 79425.7833 - VAE_loss: 79425.6886 - CLASF_loss: 0.0946 - VAE_acc: 0.0263 - CLASF_acc: 0.9719 - val_loss: 77853.4430 - val_VAE_loss: 77853.2985 - val_CLASF_loss: 0.1445 - val_VAE_acc: 0.0246 - val_CLASF_acc: 0.9566\n",
      "Epoch 13/80\n",
      "13809/13809 [==============================] - 66s 5ms/step - loss: 79425.7462 - VAE_loss: 79425.6575 - CLASF_loss: 0.0888 - VAE_acc: 0.0268 - CLASF_acc: 0.9749 - val_loss: 77853.4754 - val_VAE_loss: 77853.3135 - val_CLASF_loss: 0.1628 - val_VAE_acc: 0.0275 - val_CLASF_acc: 0.9586\n"
     ]
    }
   ],
   "source": [
    "#Joint training of VAE and classifier:\n",
    "callbacks = [EarlyStopping(monitor='val_CLASF_acc', patience=3),\n",
    "             ModelCheckpoint(filepath='best_model_AE_LSTM_earn.h5', monitor = 'val_CLASF_acc')]\n",
    "es = callbacks\n",
    "score_earn4 = []\n",
    "acc_earn4 = []\n",
    "cv_pred_4e = np.zeros([n_t])\n",
    "score_pred_4e = np.zeros([n_t])\n",
    "test_pred_4e = np.zeros([n_v])\n",
    "model = VAE_earn\n",
    "model.fit(X_train_e, [X_train_e, Y_train_e], batch_size = 128, validation_split = 0.2, epochs = 80, callbacks = callbacks)\n",
    "#score, acc = model.evaluate(X_test, Y_test, batch_size = 128)\n",
    "#Get the CV prediction with 0-1 threshold encoding:\n",
    "#pred_current = model.predict(X_test)\n",
    "#score_pred_1e[test_index] = pred_current.reshape(-1)\n",
    "#pred_c = [1 if t> 0.5 else 0 for t in pred_current]\n",
    "_, pred_test = model.predict(X_test_e)\n",
    "test_pred_4e = pred_test.reshape(-1)\n",
    "#Get the predicted latent space for further investigation:\n",
    "VAE_latent_earn = VAE_encoder_earn.predict(X_matrix)\n",
    "\n"
   ]
  },
  {
   "cell_type": "code",
   "execution_count": 85,
   "metadata": {},
   "outputs": [
    {
     "name": "stderr",
     "output_type": "stream",
     "text": [
      "/Users/ruanhq/anaconda3/lib/python3.7/site-packages/ipykernel_launcher.py:71: UserWarning: Update your `Model` call to the Keras 2 API: `Model(outputs=[<tf.Tenso..., inputs=Tensor(\"in...)`\n",
      "/Users/ruanhq/anaconda3/lib/python3.7/site-packages/ipykernel_launcher.py:73: UserWarning: Update your `Model` call to the Keras 2 API: `Model(outputs=Tensor(\"la..., inputs=Tensor(\"in...)`\n"
     ]
    }
   ],
   "source": [
    "VAE_encoder_acq, VAE_acq = LSTM_VAE_clf(n_feature = 300,\n",
    "                      inter_dim1 = 64,\n",
    "                      latent_dim = 32,\n",
    "                      vocab_size = 2000,\n",
    "                      embedding_dim = 300,\n",
    "                      max_length = 300,\n",
    "                      embedding_matrix = embedding_matrix\n",
    "                      )"
   ]
  },
  {
   "cell_type": "code",
   "execution_count": 86,
   "metadata": {
    "scrolled": true
   },
   "outputs": [
    {
     "name": "stdout",
     "output_type": "stream",
     "text": [
      "Train on 13809 samples, validate on 3453 samples\n",
      "Epoch 1/80\n",
      "13809/13809 [==============================] - 75s 5ms/step - loss: 78695.6525 - VAE_loss: 78695.3208 - CLASF_loss: 0.3316 - VAE_acc: 0.0285 - CLASF_acc: 0.8666 - val_loss: 78459.9152 - val_VAE_loss: 78459.6921 - val_CLASF_loss: 0.2234 - val_VAE_acc: 0.0345 - val_CLASF_acc: 0.9140\n",
      "Epoch 2/80\n",
      "13809/13809 [==============================] - 67s 5ms/step - loss: 78695.6123 - VAE_loss: 78695.3555 - CLASF_loss: 0.2567 - VAE_acc: 0.0257 - CLASF_acc: 0.9182 - val_loss: 78460.1090 - val_VAE_loss: 78459.9029 - val_CLASF_loss: 0.2062 - val_VAE_acc: 0.0281 - val_CLASF_acc: 0.9360\n",
      "Epoch 3/80\n",
      "13809/13809 [==============================] - 69s 5ms/step - loss: 78695.4366 - VAE_loss: 78695.2507 - CLASF_loss: 0.1862 - VAE_acc: 0.0249 - CLASF_acc: 0.9383 - val_loss: 78460.1303 - val_VAE_loss: 78459.9394 - val_CLASF_loss: 0.1911 - val_VAE_acc: 0.0261 - val_CLASF_acc: 0.9369\n",
      "Epoch 4/80\n",
      "13809/13809 [==============================] - 68s 5ms/step - loss: 78695.4288 - VAE_loss: 78695.2591 - CLASF_loss: 0.1696 - VAE_acc: 0.0245 - CLASF_acc: 0.9395 - val_loss: 78459.9877 - val_VAE_loss: 78459.8372 - val_CLASF_loss: 0.1499 - val_VAE_acc: 0.0295 - val_CLASF_acc: 0.9473\n",
      "Epoch 5/80\n",
      "13809/13809 [==============================] - 77s 6ms/step - loss: 78695.3734 - VAE_loss: 78695.2281 - CLASF_loss: 0.1453 - VAE_acc: 0.0266 - CLASF_acc: 0.9502 - val_loss: 78460.0730 - val_VAE_loss: 78459.9253 - val_CLASF_loss: 0.1485 - val_VAE_acc: 0.0272 - val_CLASF_acc: 0.9473\n",
      "Epoch 6/80\n",
      "13809/13809 [==============================] - 76s 6ms/step - loss: 78695.6239 - VAE_loss: 78695.3773 - CLASF_loss: 0.2467 - VAE_acc: 0.0246 - CLASF_acc: 0.9102 - val_loss: 78460.5100 - val_VAE_loss: 78460.1491 - val_CLASF_loss: 0.3610 - val_VAE_acc: 0.0336 - val_CLASF_acc: 0.8923\n",
      "Epoch 7/80\n",
      "13809/13809 [==============================] - 76s 5ms/step - loss: 78695.5470 - VAE_loss: 78695.1829 - CLASF_loss: 0.3643 - VAE_acc: 0.0290 - CLASF_acc: 0.8896 - val_loss: 78460.2388 - val_VAE_loss: 78459.8917 - val_CLASF_loss: 0.3477 - val_VAE_acc: 0.0266 - val_CLASF_acc: 0.8923\n",
      "Epoch 8/80\n",
      "13809/13809 [==============================] - 71s 5ms/step - loss: 78695.4616 - VAE_loss: 78695.1082 - CLASF_loss: 0.3540 - VAE_acc: 0.0272 - CLASF_acc: 0.8896 - val_loss: 78460.1217 - val_VAE_loss: 78459.7766 - val_CLASF_loss: 0.3455 - val_VAE_acc: 0.0301 - val_CLASF_acc: 0.8923\n"
     ]
    }
   ],
   "source": [
    "#Joint training of AE and classifier:\n",
    "callbacks = [EarlyStopping(monitor='val_CLASF_acc', patience=3),\n",
    "             ModelCheckpoint(filepath='best_model_AE_LSTM_acq.h5', monitor = 'val_CLASF_acc')]\n",
    "score_VAEacq = []\n",
    "acc_VAEacq = []\n",
    "cv_pred_4a = np.zeros([n_t])\n",
    "score_pred_4a = np.zeros([n_t])\n",
    "test_pred_4a = np.zeros([n_v])\n",
    "model = VAE_acq\n",
    "model.fit(X_train_a, [X_train_a, Y_train_a], batch_size = 128, validation_split = 0.2, epochs = 80, callbacks = callbacks)\n",
    "#score, acc = model.evaluate(X_test, Y_test, batch_size = 128)\n",
    "#Get the CV prediction with 0-1 threshold encoding:\n",
    "#pred_current = model.predict(X_test)\n",
    "#score_pred_1e[test_index] = pred_current.reshape(-1)\n",
    "#pred_c = [1 if t> 0.5 else 0 for t in pred_current]\n",
    "_, pred_test = model.predict(X_test_a)\n",
    "test_pred_4a = pred_test.reshape(-1)\n",
    "VAE_latent_acq = VAE_encoder_acq.predict(X_matrix)\n",
    "\n"
   ]
  },
  {
   "cell_type": "code",
   "execution_count": 29,
   "metadata": {},
   "outputs": [],
   "source": [
    "#####\n",
    "#Function to record the comprehensive evaluation of a certain model:\n",
    "from sklearn.metrics import precision_recall_curve, average_precision_score, roc_auc_score, roc_curve, matthews_corrcoef\n",
    "#Function to calculate the corresponding statistics for the classifier:\n",
    "def cal_score(Y_label, scoring):\n",
    "    #AUROC/ AUPR calculation:\n",
    "    fpr, tpr, _ = roc_curve(Y_label, scoring)\n",
    "    auroc = roc_auc_score(Y_label, scoring)\n",
    "    pr, rec, _ = precision_recall_curve(Y_label, scoring)\n",
    "    aupr = average_precision_score(Y_label, scoring)\n",
    "    #####\n",
    "    plt.step(fpr, tpr, color = 'blue')\n",
    "    plt.xlabel('FPR')\n",
    "    plt.ylabel('TPR')\n",
    "    plt.title('AUC is {:.6f}'.format(auroc))\n",
    "    plt.show()\n",
    "    \n",
    "    plt.step(rec, pr, color = 'b')\n",
    "    plt.xlabel('PR')\n",
    "    plt.ylabel('REC')\n",
    "    plt.title('AUPR is {:.6f}'.format(aupr))\n",
    "    \n",
    "    #Transform the scoring to binary prediction:\n",
    "    label_pred = [1 if t > 0.5 else 0 for t in scoring]\n",
    "    \n",
    "    #Output confusion matrix:\n",
    "    conf_mat = confusion_matrix(Y_label, label_pred)\n",
    "    \n",
    "    #Evaluation the for label classification:\n",
    "    accu = accuracy_score(Y_label, label_pred)\n",
    "    prec = precision_score(Y_label, label_pred)\n",
    "    recc = recall_score(Y_label, label_pred)\n",
    "    kap = cohen_kappa_score(Y_label, label_pred)\n",
    "    #Evaluate the MCC:\n",
    "    mcc = matthews_corrcoef(Y_label, label_pred)\n",
    "    \n",
    "    #Generate report:\n",
    "    report = pd.DataFrame({'auc': [auroc], 'aupr': [aupr], 'accu': [accu], 'prec': [prec], 'recc': [recc], 'kap': [kap], 'mcc':[mcc]})\n",
    "    \n",
    "    return report, conf_mat"
   ]
  },
  {
   "cell_type": "code",
   "execution_count": 33,
   "metadata": {},
   "outputs": [
    {
     "data": {
      "image/png": "[encoded data removed]",
      "text/plain": [
       "<Figure size 432x288 with 1 Axes>"
      ]
     },
     "metadata": {
      "needs_background": "light"
     },
     "output_type": "display_data"
    },
    {
     "data": {
      "text/plain": [
       "(        auc      aupr     accu      prec      recc       kap      mcc\n",
       " 0  0.993744  0.978461  0.97266  0.959732  0.890411  0.907144  0.90809,\n",
       " array([[3483,   30],\n",
       "        [  88,  715]]))"
      ]
     },
     "execution_count": 33,
     "metadata": {},
     "output_type": "execute_result"
    },
    {
     "data": {
      "image/png": "[encoded data removed]",
      "text/plain": [
       "<Figure size 432x288 with 1 Axes>"
      ]
     },
     "metadata": {
      "needs_background": "light"
     },
     "output_type": "display_data"
    }
   ],
   "source": [
    "#Print out the performance for each of the model:\n",
    "#Start from GRU:\n",
    "cal_score(Y_test_e, test_pred_0e)"
   ]
  },
  {
   "cell_type": "code",
   "execution_count": 128,
   "metadata": {},
   "outputs": [
    {
     "data": {
      "image/png": "[encoded data removed]",
      "text/plain": [
       "<Figure size 432x288 with 1 Axes>"
      ]
     },
     "metadata": {
      "needs_background": "light"
     },
     "output_type": "display_data"
    },
    {
     "data": {
      "text/plain": [
       "(       auc      aupr      accu     prec      recc      kap       mcc\n",
       " 0  0.98951  0.972054  0.970343  0.94702  0.890411  0.89977  0.900406,\n",
       " array([[3473,   40],\n",
       "        [  88,  715]]))"
      ]
     },
     "execution_count": 128,
     "metadata": {},
     "output_type": "execute_result"
    },
    {
     "data": {
      "image/png": "[encoded data removed]",
      "text/plain": [
       "<Figure size 432x288 with 1 Axes>"
      ]
     },
     "metadata": {
      "needs_background": "light"
     },
     "output_type": "display_data"
    }
   ],
   "source": [
    "#Print out the performance for each of the model:\n",
    "#######\n",
    "#Prediction of the earn:\n",
    "#LSTM one-direction:\n",
    "#Evaluate the prediction for the earn(LSTM one direction):\n",
    "cal_score(Y_test_e, test_pred_1e)"
   ]
  },
  {
   "cell_type": "code",
   "execution_count": 129,
   "metadata": {},
   "outputs": [
    {
     "data": {
      "image/png": "[encoded data removed]",
      "text/plain": [
       "<Figure size 432x288 with 1 Axes>"
      ]
     },
     "metadata": {
      "needs_background": "light"
     },
     "output_type": "display_data"
    },
    {
     "data": {
      "text/plain": [
       "(        auc     aupr      accu      prec      recc       kap       mcc\n",
       " 0  0.990138  0.96464  0.958063  0.847098  0.945205  0.867457  0.869476,\n",
       " array([[3376,  137],\n",
       "        [  44,  759]]))"
      ]
     },
     "execution_count": 129,
     "metadata": {},
     "output_type": "execute_result"
    },
    {
     "data": {
      "image/png": "[encoded data removed]",
      "text/plain": [
       "<Figure size 432x288 with 1 Axes>"
      ]
     },
     "metadata": {
      "needs_background": "light"
     },
     "output_type": "display_data"
    }
   ],
   "source": [
    "#Bi-directional LSTM:\n",
    "cal_score(Y_test_e, test_pred_2e)"
   ]
  },
  {
   "cell_type": "code",
   "execution_count": 130,
   "metadata": {},
   "outputs": [
    {
     "data": {
      "image/png": "[encoded data removed]",
      "text/plain": [
       "<Figure size 432x288 with 1 Axes>"
      ]
     },
     "metadata": {
      "needs_background": "light"
     },
     "output_type": "display_data"
    },
    {
     "data": {
      "text/plain": [
       "(        auc      aupr     accu      prec      recc       kap       mcc\n",
       " 0  0.989691  0.967943  0.96988  0.921151  0.916563  0.900359  0.900364,\n",
       " array([[3450,   63],\n",
       "        [  67,  736]]))"
      ]
     },
     "execution_count": 130,
     "metadata": {},
     "output_type": "execute_result"
    },
    {
     "data": {
      "image/png": "[encoded data removed]",
      "text/plain": [
       "<Figure size 432x288 with 1 Axes>"
      ]
     },
     "metadata": {
      "needs_background": "light"
     },
     "output_type": "display_data"
    }
   ],
   "source": [
    "#LSTM-AE:\n",
    "cal_score(Y_test_e, test_pred_3e)"
   ]
  },
  {
   "cell_type": "code",
   "execution_count": 131,
   "metadata": {},
   "outputs": [
    {
     "data": {
      "image/png": "[encoded data removed]",
      "text/plain": [
       "<Figure size 432x288 with 1 Axes>"
      ]
     },
     "metadata": {
      "needs_background": "light"
     },
     "output_type": "display_data"
    },
    {
     "data": {
      "text/plain": [
       "(        auc      aupr      accu      prec      recc       kap       mcc\n",
       " 0  0.961291  0.918972  0.961538  0.928668  0.859278  0.869243  0.870215,\n",
       " array([[3460,   53],\n",
       "        [ 113,  690]]))"
      ]
     },
     "execution_count": 131,
     "metadata": {},
     "output_type": "execute_result"
    },
    {
     "data": {
      "image/png": "[encoded data removed]",
      "text/plain": [
       "<Figure size 432x288 with 1 Axes>"
      ]
     },
     "metadata": {
      "needs_background": "light"
     },
     "output_type": "display_data"
    }
   ],
   "source": [
    "#LSTM-VAE:\n",
    "cal_score(Y_test_e, test_pred_4e)"
   ]
  },
  {
   "cell_type": "code",
   "execution_count": 34,
   "metadata": {},
   "outputs": [
    {
     "data": {
      "image/png": "[encoded data removed]",
      "text/plain": [
       "<Figure size 432x288 with 1 Axes>"
      ]
     },
     "metadata": {
      "needs_background": "light"
     },
     "output_type": "display_data"
    },
    {
     "data": {
      "text/plain": [
       "(        auc      aupr      accu      prec      recc       kap       mcc\n",
       " 0  0.982123  0.885464  0.954124  0.896142  0.649462  0.728538  0.740022,\n",
       " array([[3816,   35],\n",
       "        [ 163,  302]]))"
      ]
     },
     "execution_count": 34,
     "metadata": {},
     "output_type": "execute_result"
    },
    {
     "data": {
      "image/png": "[encoded data removed]",
      "text/plain": [
       "<Figure size 432x288 with 1 Axes>"
      ]
     },
     "metadata": {
      "needs_background": "light"
     },
     "output_type": "display_data"
    }
   ],
   "source": [
    "###\n",
    "#The AUPR doesn't seem good.\n",
    "cal_score(Y_test_a, test_pred_0a)"
   ]
  },
  {
   "cell_type": "code",
   "execution_count": 132,
   "metadata": {},
   "outputs": [
    {
     "data": {
      "image/png": "[encoded data removed]",
      "text/plain": [
       "<Figure size 432x288 with 1 Axes>"
      ]
     },
     "metadata": {
      "needs_background": "light"
     },
     "output_type": "display_data"
    },
    {
     "data": {
      "text/plain": [
       "(        auc      aupr      accu     prec      recc       kap       mcc\n",
       " 0  0.979286  0.870367  0.955746  0.87027  0.692473  0.747111  0.753093,\n",
       " array([[3803,   48],\n",
       "        [ 143,  322]]))"
      ]
     },
     "execution_count": 132,
     "metadata": {},
     "output_type": "execute_result"
    },
    {
     "data": {
      "image/png": "[encoded data removed]",
      "text/plain": [
       "<Figure size 432x288 with 1 Axes>"
      ]
     },
     "metadata": {
      "needs_background": "light"
     },
     "output_type": "display_data"
    }
   ],
   "source": [
    "#For predicting the acq:\n",
    "#LSTM one-direction\n",
    "cal_score(Y_test_a, test_pred_1a)"
   ]
  },
  {
   "cell_type": "code",
   "execution_count": 133,
   "metadata": {},
   "outputs": [
    {
     "data": {
      "image/png": "[encoded data removed]",
      "text/plain": [
       "<Figure size 432x288 with 1 Axes>"
      ]
     },
     "metadata": {
      "needs_background": "light"
     },
     "output_type": "display_data"
    },
    {
     "data": {
      "text/plain": [
       "(        auc      aupr      accu      prec      recc       kap       mcc\n",
       " 0  0.977524  0.871626  0.958526  0.835681  0.765591  0.776028  0.776954,\n",
       " array([[3781,   70],\n",
       "        [ 109,  356]]))"
      ]
     },
     "execution_count": 133,
     "metadata": {},
     "output_type": "execute_result"
    },
    {
     "data": {
      "image/png": "[encoded data removed]",
      "text/plain": [
       "<Figure size 432x288 with 1 Axes>"
      ]
     },
     "metadata": {
      "needs_background": "light"
     },
     "output_type": "display_data"
    }
   ],
   "source": [
    "#Bi-directional LSTM:\n",
    "cal_score(Y_test_a, test_pred_2a)"
   ]
  },
  {
   "cell_type": "code",
   "execution_count": 134,
   "metadata": {},
   "outputs": [
    {
     "data": {
      "image/png": "[encoded data removed]",
      "text/plain": [
       "<Figure size 432x288 with 1 Axes>"
      ]
     },
     "metadata": {
      "needs_background": "light"
     },
     "output_type": "display_data"
    },
    {
     "data": {
      "text/plain": [
       "(        auc      aupr      accu      prec  recc       kap       mcc\n",
       " 0  0.985421  0.906306  0.965014  0.865116   0.8  0.811802  0.812575,\n",
       " array([[3793,   58],\n",
       "        [  93,  372]]))"
      ]
     },
     "execution_count": 134,
     "metadata": {},
     "output_type": "execute_result"
    },
    {
     "data": {
      "image/png": "[encoded data removed]",
      "text/plain": [
       "<Figure size 432x288 with 1 Axes>"
      ]
     },
     "metadata": {
      "needs_background": "light"
     },
     "output_type": "display_data"
    }
   ],
   "source": [
    "#LSTM-AE:\n",
    "cal_score(Y_test_a, test_pred_3a)\n",
    "#We observe that the LSTM-AE gets an improvement in both AUPR and AUROCs"
   ]
  },
  {
   "cell_type": "code",
   "execution_count": 135,
   "metadata": {},
   "outputs": [
    {
     "data": {
      "image/png": "[encoded data removed]",
      "text/plain": [
       "<Figure size 432x288 with 1 Axes>"
      ]
     },
     "metadata": {
      "needs_background": "light"
     },
     "output_type": "display_data"
    },
    {
     "name": "stderr",
     "output_type": "stream",
     "text": [
      "/Users/ruanhq/anaconda3/lib/python3.7/site-packages/sklearn/metrics/classification.py:1143: UndefinedMetricWarning: Precision is ill-defined and being set to 0.0 due to no predicted samples.\n",
      "  'precision', 'predicted', average, warn_for)\n",
      "/Users/ruanhq/anaconda3/lib/python3.7/site-packages/sklearn/metrics/classification.py:543: RuntimeWarning: invalid value encountered in double_scalars\n",
      "  mcc = cov_ytyp / np.sqrt(cov_ytyt * cov_ypyp)\n"
     ]
    },
    {
     "data": {
      "text/plain": [
       "(        auc      aupr      accu  prec  recc  kap  mcc\n",
       " 0  0.514874  0.120698  0.892261   0.0   0.0  0.0  0.0, array([[3851,    0],\n",
       "        [ 465,    0]]))"
      ]
     },
     "execution_count": 135,
     "metadata": {},
     "output_type": "execute_result"
    },
    {
     "data": {
      "image/png": "[encoded data removed]",
      "text/plain": [
       "<Figure size 432x288 with 1 Axes>"
      ]
     },
     "metadata": {
      "needs_background": "light"
     },
     "output_type": "display_data"
    }
   ],
   "source": [
    "#LSTM-VAE:\n",
    "cal_score(Y_test_a, test_pred_4a)"
   ]
  },
  {
   "cell_type": "code",
   "execution_count": 160,
   "metadata": {},
   "outputs": [],
   "source": [
    "#Visualize the latent space:\n",
    "from sklearn.decomposition import PCA, FastICA\n",
    "from sklearn.manifold import Isomap, TSNE\n"
   ]
  },
  {
   "cell_type": "markdown",
   "metadata": {},
   "source": [
    "### 1.The high level intuition of the autoencoder is to do a kind of pre-training. As we attach a classifier at the latent space,  we further investigate the latent space in which we integrate more classifiers apart from MLP independently to further improve the classification performance.\n",
    "### 2. VAE-LSTM may not be useful as the log($\\sigma^{2} $) in the sampling procedure can be unlimited in which may introduce a lot of numerical instability. Another reason maybe the limited sample size."
   ]
  },
  {
   "cell_type": "code",
   "execution_count": 98,
   "metadata": {},
   "outputs": [],
   "source": [
    "#Incorporate xgboost and GBDT on top of the latent space:\n",
    "X_train_el, X_test_el, Y_train_el, Y_test_el = train_test_split(latent_earn1, Y_earn, test_size = 0.2, random_state = 42)\n",
    "X_train_al, X_test_al, Y_train_al, Y_test_al = train_test_split(latent_acq1, Y_acq, test_size = 0.2, random_state = 1)\n"
   ]
  },
  {
   "cell_type": "code",
   "execution_count": 116,
   "metadata": {},
   "outputs": [],
   "source": [
    "#Apply the GBDT and XGBoost on the predicted features:\n",
    "from sklearn.ensemble import GradientBoostingClassifier\n",
    "#param_gb = {'max_depth': [3, 6, 8, 10],\n",
    "#           'n_estimators': [100, 200, 300]}\n",
    "#gbc_model = GradientBoostingClassifier()\n",
    "#gbt = GridSearchCV(gbc_model, param_grid = param_gb, cv = 5, scoring = 'accuracy')\n",
    "#gbt.fit(X_train_el, Y_train_el)\n",
    "#gbd_e = gbt.best_estimator_\n",
    "\n",
    "param_xgb = {\n",
    "    'max_depth': [3, 6, 10],\n",
    "    'eta': [0.5],\n",
    "    'lambda':[0.5],\n",
    "    'alpha': [0.1],\n",
    "    'n_estimator': [200, 400, 600],\n",
    "    'subsample': [0.2, 0.5, 0.8]\n",
    "}\n",
    "\n",
    "model = XGBClassifier()\n",
    "xgb_model = GridSearchCV(model, param_grid = param_xgb, cv = 5, scoring = 'accuracy')\n",
    "xgb_model.fit(X_train_el, Y_train_el)\n",
    "xgb_best_e = xgb_model.best_estimator_\n"
   ]
  },
  {
   "cell_type": "code",
   "execution_count": 117,
   "metadata": {},
   "outputs": [],
   "source": [
    "from sklearn.ensemble import GradientBoostingClassifier\n",
    "param_gb = {'max_depth': [3, 6, 8, 10],\n",
    "           'n_estimators': [100, 200, 300]}\n",
    "gbc_model = GradientBoostingClassifier()\n",
    "gbt = GridSearchCV(gbc_model, param_grid = param_gb, cv = 5, scoring = 'accuracy')\n",
    "gbt.fit(X_train_al, Y_train_al)\n",
    "gbd_a = gbt.best_estimator_\n",
    "\n",
    "param_xgb = {\n",
    "    'max_depth': [3, 6, 10],\n",
    "    'eta': [0.5],\n",
    "    'lambda':[0.5],\n",
    "    'alpha': [0.1],\n",
    "    'n_estimator': [200, 400, 600],\n",
    "    'subsample': [0.2, 0.5, 0.8]\n",
    "}\n",
    "\n",
    "model = XGBClassifier()\n",
    "xgb_model = GridSearchCV(model, param_grid = param_xgb, cv = 5, scoring = 'accuracy')\n",
    "xgb_model.fit(X_train_al, Y_train_al)\n",
    "xgb_best_a = xgb_model.best_estimator_"
   ]
  },
  {
   "cell_type": "code",
   "execution_count": 138,
   "metadata": {},
   "outputs": [],
   "source": [
    "y_pred_el_gbdt = gbd_e.predict(X_test_el)\n",
    "y_pred_el_xgbo = xgb_best_e.predict(X_test_el)"
   ]
  },
  {
   "cell_type": "code",
   "execution_count": 155,
   "metadata": {},
   "outputs": [
    {
     "data": {
      "image/png": "[encoded data removed]",
      "text/plain": [
       "<Figure size 432x288 with 1 Axes>"
      ]
     },
     "metadata": {
      "needs_background": "light"
     },
     "output_type": "display_data"
    },
    {
     "data": {
      "text/plain": [
       "(       auc      aupr      accu      prec      recc       kap       mcc\n",
       " 0  0.95376  0.879797  0.970806  0.927939  0.914072  0.903052  0.903091,\n",
       " array([[3456,   57],\n",
       "        [  69,  734]]))"
      ]
     },
     "execution_count": 155,
     "metadata": {},
     "output_type": "execute_result"
    },
    {
     "data": {
      "image/png": "[encoded data removed]",
      "text/plain": [
       "<Figure size 432x288 with 1 Axes>"
      ]
     },
     "metadata": {
      "needs_background": "light"
     },
     "output_type": "display_data"
    }
   ],
   "source": [
    "#Observe a increase in MCC, from 0.87 to 0.903\n",
    "cal_score(Y_test_e, y_pred_el_gbdt * 0.6 + y_pred_el_xgbo * 0.4) #(y_pred_el_gbdt * 0.1 + y_pred_el_xgbo * 0.1 + test_pred_2e * 0.8))"
   ]
  },
  {
   "cell_type": "code",
   "execution_count": 124,
   "metadata": {},
   "outputs": [],
   "source": [
    "y_pred_al_gbdt = gbd_a.predict(X_test_al)\n",
    "y_pred_al_xgbo = xgb_best_a.predict(X_test_al)"
   ]
  },
  {
   "cell_type": "code",
   "execution_count": 159,
   "metadata": {},
   "outputs": [
    {
     "data": {
      "image/png": "[encoded data removed]",
      "text/plain": [
       "<Figure size 432x288 with 1 Axes>"
      ]
     },
     "metadata": {
      "needs_background": "light"
     },
     "output_type": "display_data"
    },
    {
     "data": {
      "text/plain": [
       "(        auc     aupr      accu      prec      recc       kap       mcc\n",
       " 0  0.985173  0.90486  0.964551  0.859447  0.802151  0.810052  0.810652,\n",
       " array([[3790,   61],\n",
       "        [  92,  373]]))"
      ]
     },
     "execution_count": 159,
     "metadata": {},
     "output_type": "execute_result"
    },
    {
     "data": {
      "image/png": "[encoded data removed]",
      "text/plain": [
       "<Figure size 432x288 with 1 Axes>"
      ]
     },
     "metadata": {
      "needs_background": "light"
     },
     "output_type": "display_data"
    }
   ],
   "source": [
    "#Observe an increase in MCC by 0.04 from 0.77 to 0.81\n",
    "cal_score(Y_test_a, (0.4 * y_pred_al_gbdt + 0.5 * y_pred_al_xgbo + 0.1 * test_pred_3a))"
   ]
  },
  {
   "cell_type": "code",
   "execution_count": 120,
   "metadata": {},
   "outputs": [
    {
     "data": {
      "image/png": "[encoded data removed]",
      "text/plain": [
       "<Figure size 432x288 with 1 Axes>"
      ]
     },
     "metadata": {
      "needs_background": "light"
     },
     "output_type": "display_data"
    },
    {
     "data": {
      "text/plain": [
       "(        auc      aupr      accu      prec      recc       kap\n",
       " 0  0.501464  0.108021  0.228452  0.108071  0.849462  0.000729,\n",
       " array([[ 591, 3260],\n",
       "        [  70,  395]]))"
      ]
     },
     "execution_count": 120,
     "metadata": {},
     "output_type": "execute_result"
    },
    {
     "data": {
      "image/png": "[encoded data removed]",
      "text/plain": [
       "<Figure size 432x288 with 1 Axes>"
      ]
     },
     "metadata": {
      "needs_background": "light"
     },
     "output_type": "display_data"
    }
   ],
   "source": [
    "#Compare Complement Naive-Bayes Classifier for both response variables prediction:\n",
    "nb_mod = ComplementNB()\n",
    "nb_mod.fit(X_train_a, Y_train_a)\n",
    "cnb_pred_a = nb_mod.predict(X_test_a)\n",
    "cal_score(Y_test_a, cnb_pred_a)"
   ]
  },
  {
   "cell_type": "code",
   "execution_count": 121,
   "metadata": {},
   "outputs": [
    {
     "data": {
      "image/png": "[encoded data removed]",
      "text/plain": [
       "<Figure size 432x288 with 1 Axes>"
      ]
     },
     "metadata": {
      "needs_background": "light"
     },
     "output_type": "display_data"
    },
    {
     "data": {
      "text/plain": [
       "(       auc      aupr      accu      prec      recc       kap\n",
       " 0  0.56211  0.207182  0.336423  0.208981  0.921544  0.053655,\n",
       " array([[ 712, 2801],\n",
       "        [  63,  740]]))"
      ]
     },
     "execution_count": 121,
     "metadata": {},
     "output_type": "execute_result"
    },
    {
     "data": {
      "image/png": "[encoded data removed]",
      "text/plain": [
       "<Figure size 432x288 with 1 Axes>"
      ]
     },
     "metadata": {
      "needs_background": "light"
     },
     "output_type": "display_data"
    }
   ],
   "source": [
    "nb_mod = ComplementNB()\n",
    "nb_mod.fit(X_train_e, Y_train_e)\n",
    "cnb_pred_e = nb_mod.predict(X_test_e)\n",
    "cal_score(Y_test_e, cnb_pred_e)"
   ]
  },
  {
   "cell_type": "markdown",
   "metadata": {},
   "source": [
    "# You can see that Naive Bayes and Complement Naive Bayes does awful :)"
   ]
  },
  {
   "cell_type": "markdown",
   "metadata": {},
   "source": [
    "# Discussion:\n",
    "1. Jointly training LSTM classifier and a LSTM VAE may pretty hard to tune, sometimes doesn't work. (Reasons can come from numerical instability in sampling latent space - especially initialization)\n",
    "2. LSTM based model perform slightly better than the model with GRU architecture.\n",
    "3. LSTM-Autoencoder gets better performance in both prediction tasks(Better than the state-of-art results that provided in the official website of the data).\n",
    "4. Bi-directional LSTM doesn't seem a significant improvement compared to the one-directional methodology.\n",
    "5. Naive Bayes is pretty clumsy in this setting as the features may not be independent(there will be covariation structure among words).\n",
    "6. GBDT and XGBoost on the latent space can help achieve improvement on the ordinary LSTM model but can't get improvement on the LSTM-Autoencoder. Model blending can help improve the performance.\n",
    "\n",
    "Jointly training LSTM classifier and an autoencoder gets the best performance."
   ]
  },
  {
   "cell_type": "markdown",
   "metadata": {},
   "source": [
    "### We observe that for highly unbalanced acq data, the LSTM-AE method works pretty well with AUPR achieving 0.91."
   ]
  }
 ],
 "metadata": {
  "kernelspec": {
   "display_name": "Python 3",
   "language": "python",
   "name": "python3"
  },
  "language_info": {
   "codemirror_mode": {
    "name": "ipython",
    "version": 3
   },
   "file_extension": ".py",
   "mimetype": "text/x-python",
   "name": "python",
   "nbconvert_exporter": "python",
   "pygments_lexer": "ipython3",
   "version": "3.7.3"
  }
 },
 "nbformat": 4,
 "nbformat_minor": 2
}
